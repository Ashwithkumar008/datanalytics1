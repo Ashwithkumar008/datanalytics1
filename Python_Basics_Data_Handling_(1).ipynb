{
  "nbformat": 4,
  "nbformat_minor": 0,
  "metadata": {
    "colab": {
      "provenance": [],
      "include_colab_link": true
    },
    "kernelspec": {
      "name": "python3",
      "display_name": "Python 3"
    }
  },
  "cells": [
    {
      "cell_type": "markdown",
      "metadata": {
        "id": "view-in-github",
        "colab_type": "text"
      },
      "source": [
        "<a href=\"https://colab.research.google.com/github/Ashwithkumar008/datanalytics1/blob/main/Python_Basics_Data_Handling_(1).ipynb\" target=\"_parent\"><img src=\"https://colab.research.google.com/assets/colab-badge.svg\" alt=\"Open In Colab\"/></a>"
      ]
    },
    {
      "cell_type": "markdown",
      "metadata": {
        "id": "xiNUvOgBSq6o"
      },
      "source": [
        "# Basic Statistics"
      ]
    },
    {
      "cell_type": "code",
      "source": [],
      "metadata": {
        "id": "FhKq1kW9l3-x"
      },
      "execution_count": null,
      "outputs": []
    },
    {
      "cell_type": "code",
      "metadata": {
        "id": "XXrYUrDUSJ-E",
        "colab": {
          "base_uri": "https://localhost:8080/"
        },
        "outputId": "d1037aaa-7ffe-4bb1-af3a-5191c7c55441"
      },
      "source": [
        "571+95"
      ],
      "execution_count": null,
      "outputs": [
        {
          "output_type": "execute_result",
          "data": {
            "text/plain": [
              "666"
            ]
          },
          "metadata": {},
          "execution_count": 1
        }
      ]
    },
    {
      "cell_type": "code",
      "metadata": {
        "id": "1S1HndpiSYyD",
        "colab": {
          "base_uri": "https://localhost:8080/"
        },
        "outputId": "b250da20-1a21-4cc0-d0f4-564d0e7c60f9"
      },
      "source": [
        "19*17"
      ],
      "execution_count": null,
      "outputs": [
        {
          "output_type": "execute_result",
          "data": {
            "text/plain": [
              "323"
            ]
          },
          "metadata": {},
          "execution_count": 2
        }
      ]
    },
    {
      "cell_type": "code",
      "metadata": {
        "id": "GC4Q97xrSaRi",
        "colab": {
          "base_uri": "https://localhost:8080/"
        },
        "outputId": "1f57005d-e13d-4058-f07f-7efc464cfbf2"
      },
      "source": [
        "571+95\n",
        "19*17\n",
        "print(57+39)"
      ],
      "execution_count": null,
      "outputs": [
        {
          "output_type": "stream",
          "name": "stdout",
          "text": [
            "96\n"
          ]
        }
      ]
    },
    {
      "cell_type": "code",
      "metadata": {
        "id": "bMyW8DULSlaR",
        "colab": {
          "base_uri": "https://localhost:8080/"
        },
        "outputId": "fa88aaa7-65e5-49bd-d3b8-f8b6d4d2c350"
      },
      "source": [
        "# use hash(#) for comments\n",
        "#Division example\n",
        "34/56"
      ],
      "execution_count": null,
      "outputs": [
        {
          "output_type": "execute_result",
          "data": {
            "text/plain": [
              "0.6071428571428571"
            ]
          },
          "metadata": {},
          "execution_count": 4
        }
      ]
    },
    {
      "cell_type": "markdown",
      "metadata": {
        "id": "1ndgMFY9SyaV"
      },
      "source": [
        "## Errors"
      ]
    },
    {
      "cell_type": "code",
      "metadata": {
        "id": "pWWImxo1Spmy",
        "colab": {
          "base_uri": "https://localhost:8080/",
          "height": 176
        },
        "outputId": "b4e1a35d-21ad-46c1-b341-37bd80d4cdca"
      },
      "source": [
        "Print(600+900) #used Print() instead of print()"
      ],
      "execution_count": null,
      "outputs": [
        {
          "output_type": "error",
          "ename": "NameError",
          "evalue": "ignored",
          "traceback": [
            "\u001b[0;31m---------------------------------------------------------------------------\u001b[0m",
            "\u001b[0;31mNameError\u001b[0m                                 Traceback (most recent call last)",
            "\u001b[0;32m<ipython-input-5-e6e08d521061>\u001b[0m in \u001b[0;36m<cell line: 1>\u001b[0;34m()\u001b[0m\n\u001b[0;32m----> 1\u001b[0;31m \u001b[0mPrint\u001b[0m\u001b[0;34m(\u001b[0m\u001b[0;36m600\u001b[0m\u001b[0;34m+\u001b[0m\u001b[0;36m900\u001b[0m\u001b[0;34m)\u001b[0m \u001b[0;31m#used Print() instead of print()\u001b[0m\u001b[0;34m\u001b[0m\u001b[0;34m\u001b[0m\u001b[0m\n\u001b[0m",
            "\u001b[0;31mNameError\u001b[0m: name 'Print' is not defined"
          ]
        }
      ]
    },
    {
      "cell_type": "code",
      "metadata": {
        "id": "dlutH2VAS3ok",
        "colab": {
          "base_uri": "https://localhost:8080/",
          "height": 176
        },
        "outputId": "4ea26a5e-3c8a-4822-be0e-4e24e119a04b"
      },
      "source": [
        "576-'96'"
      ],
      "execution_count": null,
      "outputs": [
        {
          "output_type": "error",
          "ename": "TypeError",
          "evalue": "ignored",
          "traceback": [
            "\u001b[0;31m---------------------------------------------------------------------------\u001b[0m",
            "\u001b[0;31mTypeError\u001b[0m                                 Traceback (most recent call last)",
            "\u001b[0;32m<ipython-input-6-3422b1156c6f>\u001b[0m in \u001b[0;36m<cell line: 1>\u001b[0;34m()\u001b[0m\n\u001b[0;32m----> 1\u001b[0;31m \u001b[0;36m576\u001b[0m\u001b[0;34m-\u001b[0m\u001b[0;34m'96'\u001b[0m\u001b[0;34m\u001b[0m\u001b[0;34m\u001b[0m\u001b[0m\n\u001b[0m",
            "\u001b[0;31mTypeError\u001b[0m: unsupported operand type(s) for -: 'int' and 'str'"
          ]
        }
      ]
    },
    {
      "cell_type": "markdown",
      "metadata": {
        "id": "l_DJDbLdS-N4"
      },
      "source": [
        "# Variable Assignment"
      ]
    },
    {
      "cell_type": "code",
      "metadata": {
        "id": "3MIvl8qvS5h_",
        "colab": {
          "base_uri": "https://localhost:8080/"
        },
        "outputId": "ec0ee526-7d8f-4c4b-dbc5-22b1b75bb696"
      },
      "source": [
        "income=12000\n",
        "income"
      ],
      "execution_count": null,
      "outputs": [
        {
          "output_type": "execute_result",
          "data": {
            "text/plain": [
              "12000"
            ]
          },
          "metadata": {},
          "execution_count": 7
        }
      ]
    },
    {
      "cell_type": "code",
      "metadata": {
        "id": "SRon2uTITF-B",
        "colab": {
          "base_uri": "https://localhost:8080/"
        },
        "outputId": "7511e25b-9174-4bfd-bf31-0d7efde6712c"
      },
      "source": [
        "x=20\n",
        "x"
      ],
      "execution_count": null,
      "outputs": [
        {
          "output_type": "execute_result",
          "data": {
            "text/plain": [
              "20"
            ]
          },
          "metadata": {},
          "execution_count": 8
        }
      ]
    },
    {
      "cell_type": "code",
      "metadata": {
        "id": "6zJXdYENTHs1",
        "colab": {
          "base_uri": "https://localhost:8080/"
        },
        "outputId": "5f809f58-ae16-4e19-c191-ecfb735f8b7a"
      },
      "source": [
        "y=30\n",
        "z=x*y\n",
        "z"
      ],
      "execution_count": null,
      "outputs": [
        {
          "output_type": "execute_result",
          "data": {
            "text/plain": [
              "600"
            ]
          },
          "metadata": {},
          "execution_count": 9
        }
      ]
    },
    {
      "cell_type": "code",
      "metadata": {
        "id": "n51ooAKYTIpK",
        "colab": {
          "base_uri": "https://localhost:8080/",
          "height": 35
        },
        "outputId": "e1e4ddce-ff5f-4c41-8f61-cd4a5179a0f2"
      },
      "source": [
        "name=\"Jack\"\n",
        "name"
      ],
      "execution_count": null,
      "outputs": [
        {
          "output_type": "execute_result",
          "data": {
            "text/plain": [
              "'Jack'"
            ],
            "application/vnd.google.colaboratory.intrinsic+json": {
              "type": "string"
            }
          },
          "metadata": {},
          "execution_count": 10
        }
      ]
    },
    {
      "cell_type": "code",
      "metadata": {
        "id": "XyP3k5q1TMC8",
        "colab": {
          "base_uri": "https://localhost:8080/"
        },
        "outputId": "fb564fdc-ea20-4708-ec97-ac96fe35553a"
      },
      "source": [
        "print(name)\n",
        "print(\"Name is \", name)"
      ],
      "execution_count": null,
      "outputs": [
        {
          "output_type": "stream",
          "name": "stdout",
          "text": [
            "Jack\n",
            "Name is  Jack\n"
          ]
        }
      ]
    },
    {
      "cell_type": "markdown",
      "metadata": {
        "id": "iFl5a87mTZJH"
      },
      "source": [
        "# Variable Assignments"
      ]
    },
    {
      "cell_type": "code",
      "metadata": {
        "id": "rg1rYGLETMdl",
        "colab": {
          "base_uri": "https://localhost:8080/",
          "height": 141
        },
        "outputId": "c343b3de-c646-4943-e40d-15c46300f9fa"
      },
      "source": [
        "1x=20 #Doesn't work"
      ],
      "execution_count": null,
      "outputs": [
        {
          "output_type": "error",
          "ename": "SyntaxError",
          "evalue": "ignored",
          "traceback": [
            "\u001b[0;36m  File \u001b[0;32m\"<ipython-input-12-accb68640a37>\"\u001b[0;36m, line \u001b[0;32m1\u001b[0m\n\u001b[0;31m    1x=20 #Doesn't work\u001b[0m\n\u001b[0m    ^\u001b[0m\n\u001b[0;31mSyntaxError\u001b[0m\u001b[0;31m:\u001b[0m invalid decimal literal\n"
          ]
        }
      ]
    },
    {
      "cell_type": "code",
      "metadata": {
        "id": "VVhyB8axTdOP",
        "colab": {
          "base_uri": "https://localhost:8080/"
        },
        "outputId": "37059a59-ded8-4bd7-bf58-bd9dc7f2fd28"
      },
      "source": [
        "x1=20 #works\n",
        "x1"
      ],
      "execution_count": null,
      "outputs": [
        {
          "output_type": "execute_result",
          "data": {
            "text/plain": [
              "20"
            ]
          },
          "metadata": {},
          "execution_count": 13
        }
      ]
    },
    {
      "cell_type": "code",
      "metadata": {
        "id": "T0GExnXwTfe6"
      },
      "source": [
        "x.1=20 #Doesn't work\n",
        "x.1"
      ],
      "execution_count": null,
      "outputs": []
    },
    {
      "cell_type": "code",
      "metadata": {
        "id": "5Nds40lFThDr"
      },
      "source": [
        "x_1=20 #works\n",
        "x_1"
      ],
      "execution_count": null,
      "outputs": []
    },
    {
      "cell_type": "markdown",
      "metadata": {
        "id": "LaSNNdvtTlr_"
      },
      "source": [
        "# Strings"
      ]
    },
    {
      "cell_type": "code",
      "metadata": {
        "id": "psjds6hKTiF5"
      },
      "source": [
        "#Defining Strings\n",
        "name=\"sheldon\"\n",
        "msg=\"Data Science Classes\"\n"
      ],
      "execution_count": null,
      "outputs": []
    },
    {
      "cell_type": "code",
      "metadata": {
        "id": "u3AS8fMbTxl1"
      },
      "source": [
        "# Accessing strings\n",
        "print(name[0]])\n",
        "print(name[1])\n",
        "\n",
        "\n"
      ],
      "execution_count": null,
      "outputs": []
    },
    {
      "cell_type": "code",
      "metadata": {
        "id": "-aM331_mTzQ9"
      },
      "source": [
        "#This is as good as substring\n",
        "print(msg[0:9])"
      ],
      "execution_count": null,
      "outputs": []
    },
    {
      "cell_type": "code",
      "metadata": {
        "id": "rNzihfsGT2EB"
      },
      "source": [
        "#length of string\n",
        "print(len(msg))\n",
        "print(msg[10:len(msg)])"
      ],
      "execution_count": null,
      "outputs": []
    },
    {
      "cell_type": "code",
      "metadata": {
        "id": "9yf0ke_6T6Dk"
      },
      "source": [
        "#Displaying string multiple time\n",
        "msg=\"Site under Construction\"\n",
        "msg*10"
      ],
      "execution_count": null,
      "outputs": []
    },
    {
      "cell_type": "code",
      "metadata": {
        "id": "Vl8QeD4PUB7b"
      },
      "source": [
        "#String Concatenation\n",
        "msg1=\"Site under Construction \"\n",
        "msg2=msg1+\"Go to home page \\n\"\n",
        "print(msg2*10)"
      ],
      "execution_count": null,
      "outputs": []
    },
    {
      "cell_type": "markdown",
      "metadata": {
        "id": "uc3Lrhs5UPMY"
      },
      "source": [
        "# Lists"
      ]
    },
    {
      "cell_type": "code",
      "source": [
        "mylist1=['Kumar','Rakul','Rathish']\n",
        "mylist1[0]\n",
        "mylist1[1]"
      ],
      "metadata": {
        "colab": {
          "base_uri": "https://localhost:8080/",
          "height": 35
        },
        "id": "RrdxQLxl82EB",
        "outputId": "64a217cd-eead-40b7-ce1b-e91b42b0af04"
      },
      "execution_count": 32,
      "outputs": [
        {
          "output_type": "execute_result",
          "data": {
            "text/plain": [
              "'Rakul'"
            ],
            "application/vnd.google.colaboratory.intrinsic+json": {
              "type": "string"
            }
          },
          "metadata": {},
          "execution_count": 32
        }
      ]
    },
    {
      "cell_type": "code",
      "metadata": {
        "id": "agqkCj6GUJnP"
      },
      "source": [
        "#Creating a list\n",
        "mylist1=['Sheldon','Tommy', 'Benny']\n",
        "\n",
        "#Accessing list elements\n",
        "mylist1[0]"
      ],
      "execution_count": null,
      "outputs": []
    },
    {
      "cell_type": "markdown",
      "metadata": {
        "id": "7dMq1RyCUgYK"
      },
      "source": [
        "# Dictionaries"
      ]
    },
    {
      "cell_type": "code",
      "source": [
        "names={1:\"Kumar\", 9:\"Raju\", 10:\"Esh\"}\n",
        "names\n",
        "names[1]\n",
        ""
      ],
      "metadata": {
        "colab": {
          "base_uri": "https://localhost:8080/",
          "height": 35
        },
        "id": "o0gSxPdg_myo",
        "outputId": "0207101e-de82-4542-ea41-1dbdda6f9142"
      },
      "execution_count": 47,
      "outputs": [
        {
          "output_type": "execute_result",
          "data": {
            "text/plain": [
              "'Kumar'"
            ],
            "application/vnd.google.colaboratory.intrinsic+json": {
              "type": "string"
            }
          },
          "metadata": {},
          "execution_count": 47
        }
      ]
    },
    {
      "cell_type": "code",
      "source": [
        "edu={\"Kumar\":\"Bcom\", \"Gill\":\"Mcom\", \"Ashu\":\"Phd\"}\n",
        "edu\n",
        "\n",
        "edu[\"Ashu\"]\n",
        "\n",
        "\n",
        ""
      ],
      "metadata": {
        "colab": {
          "base_uri": "https://localhost:8080/",
          "height": 35
        },
        "id": "GJhbk6lmAPYd",
        "outputId": "98595929-17af-4092-d27b-482953bb379a"
      },
      "execution_count": 50,
      "outputs": [
        {
          "output_type": "execute_result",
          "data": {
            "text/plain": [
              "'Phd'"
            ],
            "application/vnd.google.colaboratory.intrinsic+json": {
              "type": "string"
            }
          },
          "metadata": {},
          "execution_count": 50
        }
      ]
    },
    {
      "cell_type": "code",
      "source": [],
      "metadata": {
        "id": "iuCMM-KTB1sg"
      },
      "execution_count": null,
      "outputs": []
    },
    {
      "cell_type": "code",
      "metadata": {
        "id": "Mk0LF93xUXT2"
      },
      "source": [
        "city={9:\"LA\", 8:\"PA\" , 7:\"FL\"}\n",
        "city\n",
        "\n",
        "city[0]"
      ],
      "execution_count": null,
      "outputs": []
    },
    {
      "cell_type": "code",
      "metadata": {
        "id": "GVjXHZAoUty_"
      },
      "source": [
        "#Make sure that we give the right key index while accessing the elements in dictionary\n",
        "names={1:\"David\", 6:\"Bill\", 9:\"Jim\"}\n",
        "names\n",
        "names[0]\n",
        "names[1]\n",
        "names[2]\n",
        "names[6]\n",
        "names[9]"
      ],
      "execution_count": null,
      "outputs": []
    },
    {
      "cell_type": "code",
      "metadata": {
        "id": "v0zq8vXEU4xr",
        "colab": {
          "base_uri": "https://localhost:8080/",
          "height": 35
        },
        "outputId": "0dda4c61-0678-4cc1-9298-55e2ee7d97fd"
      },
      "source": [
        "edu={\"David\":\"Bsc\", \"Bill\":\"Msc\", \"Jim\":\"Phd\"}\n",
        "edu\n",
        "\n",
        "\n",
        "edu[\"David\"]\n"
      ],
      "execution_count": 52,
      "outputs": [
        {
          "output_type": "execute_result",
          "data": {
            "text/plain": [
              "'Bsc'"
            ],
            "application/vnd.google.colaboratory.intrinsic+json": {
              "type": "string"
            }
          },
          "metadata": {},
          "execution_count": 52
        }
      ]
    },
    {
      "cell_type": "code",
      "source": [
        "names={\"student1\":\"Ashwith\",\"student2\":\"Rakul\",\"student3\":\"Rathish\"}\n",
        "names[\"student1\"]\n"
      ],
      "metadata": {
        "colab": {
          "base_uri": "https://localhost:8080/",
          "height": 35
        },
        "id": "-Aa1ruE1D-O7",
        "outputId": "07e18386-fff8-4395-eeac-9bdcff82287b"
      },
      "execution_count": 56,
      "outputs": [
        {
          "output_type": "execute_result",
          "data": {
            "text/plain": [
              "'Ashwith'"
            ],
            "application/vnd.google.colaboratory.intrinsic+json": {
              "type": "string"
            }
          },
          "metadata": {},
          "execution_count": 56
        }
      ]
    },
    {
      "cell_type": "code",
      "metadata": {
        "id": "tQct8NFHVDDx"
      },
      "source": [
        "print(names.keys())"
      ],
      "execution_count": null,
      "outputs": []
    },
    {
      "cell_type": "code",
      "metadata": {
        "id": "PN8yj39DVQsl"
      },
      "source": [
        "print(names.values())"
      ],
      "execution_count": null,
      "outputs": []
    },
    {
      "cell_type": "markdown",
      "metadata": {
        "id": "SolF6DPMVYB8"
      },
      "source": [
        "# Packages"
      ]
    },
    {
      "cell_type": "code",
      "metadata": {
        "id": "fCsVhWRcVQ9z"
      },
      "source": [
        "\n",
        "import numpy as np\n",
        "\n",
        "income = np.array([9000, 8500, 9800, 12000, 7900, 6700, 10000])\n",
        "print(income)\n",
        "print(income[0])\n",
        "\n",
        "expenses=income*0.65\n",
        "print(expenses)\n",
        "\n",
        "savings=income-expenses\n",
        "print(savings)\n"
      ],
      "execution_count": null,
      "outputs": []
    },
    {
      "cell_type": "code",
      "metadata": {
        "id": "zmw_bYfoVeI_"
      },
      "source": [
        "import pandas as pd\n",
        "bank= pd.read_csv('https://raw.githubusercontent.com/venkatareddykonasani/Datasets/master/Bank%20Tele%20Marketing/bank_market.csv')\n",
        "\n",
        "print(bank)\n"
      ],
      "execution_count": null,
      "outputs": []
    },
    {
      "cell_type": "code",
      "metadata": {
        "id": "W3BSCJLfVvVx"
      },
      "source": [
        "import matplotlib as mp\n",
        "\n",
        "X = np.random.normal(size=1000)\n",
        "print(X)\n",
        "\n",
        "Y = np.random.normal(size=1000)\n",
        "print(Y)\n",
        "\n",
        "mp.pyplot.scatter(X,Y)\n"
      ],
      "execution_count": null,
      "outputs": []
    },
    {
      "cell_type": "code",
      "metadata": {
        "id": "6_OdbDwMV0mf"
      },
      "source": [
        "Sales = pd.read_csv(\"https://raw.githubusercontent.com/venkatareddykonasani/Datasets/master/Superstore%20Sales%20Data/Sales_sample.csv\")\n",
        "\n",
        "print(Sales)\n"
      ],
      "execution_count": null,
      "outputs": []
    },
    {
      "cell_type": "code",
      "metadata": {
        "id": "UrMyAAKvWC6e"
      },
      "source": [
        "wb_data = pd.read_excel(\"https://raw.githubusercontent.com/venkatareddykonasani/Datasets/master/World%20Bank%20Data/World%20Bank%20Indicators.xlsx\", \"Data by country\")\n",
        "\n",
        "print(wb_data)\n"
      ],
      "execution_count": null,
      "outputs": []
    },
    {
      "cell_type": "markdown",
      "metadata": {
        "id": "BELW_VEWW0VF"
      },
      "source": [
        "#Subsetting"
      ]
    },
    {
      "cell_type": "code",
      "metadata": {
        "id": "9867NToQWhbR"
      },
      "source": [
        "import pandas as pd\n",
        "#Include encoding = \"ISO-8859-1\" or encoding = \"utf8\" to tackle the error\n",
        "gdp=pd.read_csv(\"https://raw.githubusercontent.com/venkatareddykonasani/Datasets/master/World%20Bank%20Data/GDP.csv\",encoding = \"ISO-8859-1\")\n",
        "\n",
        "print(gdp.shape)\n",
        "print(gdp.columns.values)\n"
      ],
      "execution_count": null,
      "outputs": []
    },
    {
      "cell_type": "code",
      "metadata": {
        "id": "k94zHRJMXAfM"
      },
      "source": [
        "#New dataset with first few rows\n",
        "gdp1 = gdp.head(10)\n",
        "gdp1"
      ],
      "execution_count": null,
      "outputs": []
    },
    {
      "cell_type": "code",
      "metadata": {
        "id": "QPM3dHIkXMM3"
      },
      "source": [
        "#New dataset with selected rows\n",
        "Index_list=[2,9,15,25]\n",
        "gdp2=gdp.iloc[Index_list]\n",
        "gdp2"
      ],
      "execution_count": null,
      "outputs": []
    },
    {
      "cell_type": "code",
      "metadata": {
        "id": "VWYAiNr_XVq3"
      },
      "source": [
        "gdp2=gdp.iloc[[2,9,15,25]]\n",
        "gdp2"
      ],
      "execution_count": null,
      "outputs": []
    },
    {
      "cell_type": "code",
      "metadata": {
        "id": "XvrzM9vhXSDX"
      },
      "source": [
        "#New dataset by keeping selected columns\n",
        "gdp3 = gdp[[\"Country\", \"Rank\"]]\n",
        "gdp3\n"
      ],
      "execution_count": null,
      "outputs": []
    },
    {
      "cell_type": "code",
      "metadata": {
        "id": "4jZfK7FVXYlm"
      },
      "source": [
        "gdp4 = gdp[[\"Country\", \"GDP\"]].iloc[0:10]\n",
        "gdp4"
      ],
      "execution_count": null,
      "outputs": []
    },
    {
      "cell_type": "code",
      "metadata": {
        "id": "gnrV3W6pXdDN"
      },
      "source": [
        "#New data by excluding rows\n",
        "gdp6=gdp.drop(range(0,20))\n",
        "gdp6"
      ],
      "execution_count": null,
      "outputs": []
    },
    {
      "cell_type": "code",
      "metadata": {
        "id": "hmOpax9sXi3J"
      },
      "source": [
        "#New data by excluding columns\n",
        "gdp5=gdp.drop([\"Country_code\"])"
      ],
      "execution_count": null,
      "outputs": []
    },
    {
      "cell_type": "code",
      "metadata": {
        "id": "zVhQmfzCXmId"
      },
      "source": [
        "#Use axis =1 ; 0 for rows and 1 for column; Default value is 0\n",
        "gdp5=gdp.drop([\"Country_code\"], axis=1)\n",
        "gdp5"
      ],
      "execution_count": null,
      "outputs": []
    },
    {
      "cell_type": "code",
      "metadata": {
        "id": "_jhV7VAgXpl7"
      },
      "source": [
        "#Use axis =0 ; for dropping rows. Default value is 0\n",
        "gdp6=gdp.drop(range(0,20), axis=0)\n",
        "gdp6"
      ],
      "execution_count": null,
      "outputs": []
    },
    {
      "cell_type": "markdown",
      "metadata": {
        "id": "pUtrzxopXwaC"
      },
      "source": [
        "# Filters"
      ]
    },
    {
      "cell_type": "code",
      "metadata": {
        "id": "TyBAkOLTXrUf"
      },
      "source": [
        "#Selection with a condition on variables\n",
        "bank_subset=bank[bank[\"balance\"]>1000]\n",
        "bank_subset"
      ],
      "execution_count": null,
      "outputs": []
    },
    {
      "cell_type": "code",
      "metadata": {
        "id": "vKiAaiktX1w5"
      },
      "source": [
        "#And condition & filters\n",
        "bank_subset1=bank[(bank [\"balance\"]>1000) &  (bank[\"loan\"]==\"no\")]\n",
        "bank_subset1"
      ],
      "execution_count": null,
      "outputs": []
    },
    {
      "cell_type": "code",
      "metadata": {
        "id": "CXmC-DxaYAKO"
      },
      "source": [
        "#OR condition & filters\n",
        "bank_subset2=bank[(bank [\"balance\"]>1000) |  (bank[\"loan\"]==\"no\")]\n",
        "bank_subset2"
      ],
      "execution_count": null,
      "outputs": []
    },
    {
      "cell_type": "code",
      "source": [
        "print (name[0])"
      ],
      "metadata": {
        "colab": {
          "base_uri": "https://localhost:8080/"
        },
        "id": "HXtX5ckHw4Mt",
        "outputId": "32bee524-d03d-4e1e-d22b-520964cffe4b"
      },
      "execution_count": null,
      "outputs": [
        {
          "output_type": "stream",
          "name": "stdout",
          "text": [
            "K\n"
          ]
        }
      ]
    },
    {
      "cell_type": "code",
      "source": [
        "name = \"Kumar\"\n",
        "print (\"name is\", name)\n",
        "print (\"Kumar is the strongest\")"
      ],
      "metadata": {
        "colab": {
          "base_uri": "https://localhost:8080/"
        },
        "id": "XU1v-JQEy6Ze",
        "outputId": "118a7b8d-ba6b-4a01-d3ed-6b8cade0b36a"
      },
      "execution_count": null,
      "outputs": [
        {
          "output_type": "stream",
          "name": "stdout",
          "text": [
            "name is Kumar\n",
            "Kumar is the strongest\n"
          ]
        }
      ]
    },
    {
      "cell_type": "code",
      "source": [],
      "metadata": {
        "id": "3TFi1fHsz4Kf"
      },
      "execution_count": null,
      "outputs": []
    },
    {
      "cell_type": "code",
      "source": [
        "print (len(name))"
      ],
      "metadata": {
        "colab": {
          "base_uri": "https://localhost:8080/"
        },
        "id": "Aq0y2znXxGXD",
        "outputId": "3c781b48-8a53-4fae-c676-bd95a17dd648"
      },
      "execution_count": null,
      "outputs": [
        {
          "output_type": "stream",
          "name": "stdout",
          "text": [
            "5\n"
          ]
        }
      ]
    },
    {
      "cell_type": "code",
      "source": [
        "name = \"Kumar\"\n",
        "msg = \" Janson school of business\"\n",
        "print (name + msg)\n"
      ],
      "metadata": {
        "id": "qQnbQeA7xrVe",
        "colab": {
          "base_uri": "https://localhost:8080/"
        },
        "outputId": "c68e9bb3-c51e-41d0-fa4c-8f4a3bd41457"
      },
      "execution_count": 28,
      "outputs": [
        {
          "output_type": "stream",
          "name": "stdout",
          "text": [
            "Kumar Janson school of business\n"
          ]
        }
      ]
    },
    {
      "cell_type": "code",
      "source": [],
      "metadata": {
        "id": "y-ZJ3hI-60X9"
      },
      "execution_count": null,
      "outputs": []
    },
    {
      "cell_type": "code",
      "source": [],
      "metadata": {
        "id": "bw1KTUSz8yAv"
      },
      "execution_count": null,
      "outputs": []
    },
    {
      "cell_type": "code",
      "source": [
        "print (msg[1])"
      ],
      "metadata": {
        "colab": {
          "base_uri": "https://localhost:8080/"
        },
        "id": "G0_Mgko7xxGG",
        "outputId": "2e7d10b8-4446-4a61-b61c-f1dcc9720256"
      },
      "execution_count": null,
      "outputs": [
        {
          "output_type": "stream",
          "name": "stdout",
          "text": [
            "a\n"
          ]
        }
      ]
    },
    {
      "cell_type": "code",
      "source": [
        "print (msg[7])"
      ],
      "metadata": {
        "colab": {
          "base_uri": "https://localhost:8080/"
        },
        "id": "LdpoR5o5x9ZQ",
        "outputId": "f2c48ebf-acc3-4587-c9be-9f5b879ec68f"
      },
      "execution_count": null,
      "outputs": [
        {
          "output_type": "stream",
          "name": "stdout",
          "text": [
            "s\n"
          ]
        }
      ]
    }
  ]
}